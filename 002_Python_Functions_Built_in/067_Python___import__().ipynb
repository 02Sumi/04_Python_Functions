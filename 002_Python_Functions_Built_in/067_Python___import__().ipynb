{
 "cells": [
  {
   "cell_type": "markdown",
   "metadata": {},
   "source": [
    "<small><small><i>\n",
    "All the IPython Notebooks in this lecture series by Dr. Milan Parmar are available @ **[GitHub](https://github.com/milaan9/04_Python_Functions/tree/main/002_Python_Functions_Built_in)**\n",
    "</i></small></small>"
   ]
  },
  {
   "cell_type": "markdown",
   "metadata": {},
   "source": [
    "# Python `__import__()`\n",
    "\n",
    "The **`__import__()`** is a function that is called by the import statement.\n",
    "\n",
    "**Syntax**:\n",
    "\n",
    "```python\n",
    "__import__(name, globals=None, locals=None, fromlist=(), level=0)\n",
    "```"
   ]
  },
  {
   "cell_type": "markdown",
   "metadata": {},
   "source": [
    "## `__import__()` Parameter\n",
    "\n",
    "* **name** - the name of the module you want to import\n",
    "* **globals** and **locals** - determines how to interpret **`name`**\n",
    "* **fromlist** - objects or submodules that should be imported by name\n",
    "* **level** - specifies whether to use absolute or relative imports"
   ]
  },
  {
   "cell_type": "markdown",
   "metadata": {},
   "source": [
    "## Use of `__import__()` is Discouraged\n",
    "\n",
    "This **`__import__()`** function is not necessary for everyday Python program. It is rarely used and often discouraged.\n",
    "\n",
    "This function can be used to change the semantics of the **import statement** as the statement calls this function. Instead, it is better to use import hooks.\n",
    "\n",
    "And, if you want to import a module by name, use **`importlib.import_module()`**."
   ]
  },
  {
   "cell_type": "code",
   "execution_count": 1,
   "metadata": {
    "scrolled": false
   },
   "outputs": [
    {
     "name": "stdout",
     "output_type": "stream",
     "text": [
      "2.5\n"
     ]
    }
   ],
   "source": [
    "# Example: How __import()__ works?\n",
    "\n",
    "mathematics = __import__('math', globals(), locals(), [], 0)\n",
    "print(mathematics.fabs(-2.5))"
   ]
  },
  {
   "cell_type": "markdown",
   "metadata": {},
   "source": [
    "The **`fabs()`** method is defined in the **`math`** module. You can call this function using the following syntax:\n",
    "\n",
    "```python\n",
    "import math\n",
    "math.fabs(x)\n",
    "```\n",
    "\n",
    "However, in the above program, we changed the way **`fabs()`** works. Now, we can also access **`fabs()`** using the following syntax:\n",
    "\n",
    "```python\n",
    "mathematics.fabs(x)\n",
    "```"
   ]
  },
  {
   "cell_type": "code",
   "execution_count": null,
   "metadata": {},
   "outputs": [],
   "source": []
  }
 ],
 "metadata": {
  "kernelspec": {
   "display_name": "Python 3",
   "language": "python",
   "name": "python3"
  },
  "language_info": {
   "codemirror_mode": {
    "name": "ipython",
    "version": 3
   },
   "file_extension": ".py",
   "mimetype": "text/x-python",
   "name": "python",
   "nbconvert_exporter": "python",
   "pygments_lexer": "ipython3",
   "version": "3.8.8"
  }
 },
 "nbformat": 4,
 "nbformat_minor": 2
}
